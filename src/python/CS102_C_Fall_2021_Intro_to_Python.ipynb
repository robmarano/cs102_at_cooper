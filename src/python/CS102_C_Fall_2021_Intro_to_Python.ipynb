{
  "nbformat": 4,
  "nbformat_minor": 0,
  "metadata": {
    "colab": {
      "name": "CS102 C Fall 2021 - Intro to Python.ipynb",
      "provenance": []
    },
    "kernelspec": {
      "name": "python3",
      "display_name": "Python 3"
    },
    "language_info": {
      "name": "python"
    }
  },
  "cells": [
    {
      "cell_type": "markdown",
      "metadata": {
        "id": "DrYjKhUUDak2"
      },
      "source": [
        "Welcome to CS 102 Section C Fall 2021 Intro Python\n"
      ]
    },
    {
      "cell_type": "code",
      "metadata": {
        "colab": {
          "base_uri": "https://localhost:8080/"
        },
        "id": "UdXAun-xDiss",
        "outputId": "d6f4c73c-969a-456a-f34b-17577b40231f"
      },
      "source": [
        "counter = 1\n",
        "name = 'cs102c'\n",
        "\n",
        "print('{0} : counter = {1} {0}'.format(name, counter))"
      ],
      "execution_count": null,
      "outputs": [
        {
          "output_type": "stream",
          "name": "stdout",
          "text": [
            "cs102c : counter = 1 cs102c\n"
          ]
        }
      ]
    },
    {
      "cell_type": "markdown",
      "metadata": {
        "id": "p3af6CuVEiSD"
      },
      "source": [
        "Let's do a for loop"
      ]
    },
    {
      "cell_type": "code",
      "metadata": {
        "colab": {
          "base_uri": "https://localhost:8080/"
        },
        "id": "xUbuFY1kEkjt",
        "outputId": "0c664f2c-b9af-4efe-fad2-130190f95f84"
      },
      "source": [
        "words = ['cat', 'window', 'defenestrate', 'mouse']\n",
        "print('Length of list is {}'.format(len(words)))\n",
        "for w in words:\n",
        "  print('word = {}'.format(w))\n",
        "print('Done')"
      ],
      "execution_count": null,
      "outputs": [
        {
          "output_type": "stream",
          "name": "stdout",
          "text": [
            "Length of list is 4\n",
            "word = cat\n",
            "word = window\n",
            "word = defenestrate\n",
            "word = mouse\n",
            "Done\n"
          ]
        }
      ]
    },
    {
      "cell_type": "code",
      "metadata": {
        "colab": {
          "base_uri": "https://localhost:8080/"
        },
        "id": "uG8Pq2FvJ30e",
        "outputId": "cf858fe8-799b-4a2e-a036-16c0ba0fd0c2"
      },
      "source": [
        "for i in range(len(words)):\n",
        "  print(i, words[i])"
      ],
      "execution_count": null,
      "outputs": [
        {
          "output_type": "stream",
          "name": "stdout",
          "text": [
            "0 cat\n",
            "1 window\n",
            "2 defenestrate\n",
            "3 mouse\n"
          ]
        }
      ]
    },
    {
      "cell_type": "markdown",
      "metadata": {
        "id": "W3htih38KbEl"
      },
      "source": [
        "Try if statements"
      ]
    },
    {
      "cell_type": "code",
      "metadata": {
        "colab": {
          "base_uri": "https://localhost:8080/"
        },
        "id": "H397h_PtKcrF",
        "outputId": "c98e2152-88e2-4933-a3a6-71b4fb78750c"
      },
      "source": [
        "x = True\n",
        "y = False\n",
        "\n",
        "if x is not True:\n",
        "  print('x is True')\n",
        "elif y is False:\n",
        "  print(\"x is True AND y is False\")\n",
        "else:\n",
        "  print('x is True')\n"
      ],
      "execution_count": null,
      "outputs": [
        {
          "output_type": "stream",
          "name": "stdout",
          "text": [
            "x is True AND y is False\n"
          ]
        }
      ]
    },
    {
      "cell_type": "markdown",
      "metadata": {
        "id": "EquXiVxnL_ps"
      },
      "source": [
        "Intro to Python Functions"
      ]
    },
    {
      "cell_type": "code",
      "metadata": {
        "colab": {
          "base_uri": "https://localhost:8080/"
        },
        "id": "TuNJbFaiMB5U",
        "outputId": "34573b96-689c-41d6-a717-8d6772ac0046"
      },
      "source": [
        "def calculate_mean(the_list):\n",
        "  print('type of the_list is {}'.format(type(the_list)))\n",
        "  the_sum = sum(the_list)\n",
        "  print('sum(the_list) = {}'.format(the_sum))\n",
        "  the_mean = the_sum / len(the_list)\n",
        "  return the_mean\n",
        "\n",
        "my_list = [1,2,3,4,5,6,7,8,9]\n",
        "my_list = [6,1,5,2,7,3,9,4,8]\n",
        "my_list.sort()\n",
        "print(my_list)\n",
        "#print(sum(my_list)/len(my_list))\n",
        "mean = calculate_mean(my_list)\n",
        "print('mean = {}'.format(mean))"
      ],
      "execution_count": null,
      "outputs": [
        {
          "output_type": "stream",
          "name": "stdout",
          "text": [
            "[1, 2, 3, 4, 5, 6, 7, 8, 9]\n",
            "type of the_list is <class 'list'>\n",
            "sum(the_list) = 45\n",
            "mean = 5.0\n"
          ]
        }
      ]
    },
    {
      "cell_type": "markdown",
      "metadata": {
        "id": "O8FuDrFAPrPc"
      },
      "source": [
        "Let's create a function that calculates and returns the median of a list of integers"
      ]
    },
    {
      "cell_type": "code",
      "metadata": {
        "colab": {
          "base_uri": "https://localhost:8080/"
        },
        "id": "mAQfQTSzPzek",
        "outputId": "310951f4-1221-4a9a-f666-a859d9b858ca"
      },
      "source": [
        "def calculate_median(the_list):\n",
        "  a = the_list.copy()\n",
        "  a.sort()\n",
        "  list_length = len(my_list)\n",
        "  middle_index = int(list_length / 2);\n",
        "  #print('middle_index = {}'.format(middle_index))\n",
        "  median_value = my_list[middle_index]\n",
        "  return median_value\n",
        "\n",
        "my_list = [6,1,5,2,7,3,9,4,8]\n",
        "median_value = calculate_median(my_list)\n",
        "print('median value of the list {} is {}'.format(my_list, median_value))"
      ],
      "execution_count": null,
      "outputs": [
        {
          "output_type": "stream",
          "name": "stdout",
          "text": [
            "median value of the list [6, 1, 5, 2, 7, 3, 9, 4, 8] is 7\n"
          ]
        }
      ]
    }
  ]
}